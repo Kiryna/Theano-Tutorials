{
 "cells": [
  {
   "cell_type": "code",
   "execution_count": 7,
   "metadata": {
    "collapsed": false
   },
   "outputs": [
    {
     "name": "stdout",
     "output_type": "stream",
     "text": [
      "Used the cpu\n",
      "target values for D\n",
      "[ 1.  0.  0.  0.  0.  1.  1.  1.  0.  1.  1.  1.  1.  1.  1.  0.  0.  0.\n",
      "  1.  1.  0.  1.  1.  0.  1.  1.  0.  1.  0.  0.  1.  0.  0.  0.  0.  0.\n",
      "  1.  0.  0.  1.  1.  1.  0.  0.  0.  0.  0.  0.  1.  1.  1.  1.  0.  0.\n",
      "  0.  1.  1.  1.  1.  0.  1.  0.  1.  0.  1.  0.  0.  1.  1.  0.  0.  1.\n",
      "  1.  1.  0.  0.  1.  0.  0.  1.  0.  1.  0.  0.  1.  0.  0.  0.  1.  0.\n",
      "  1.  1.  0.  0.  1.  0.  1.  1.  1.  0.  1.  0.  0.  0.  1.  0.  1.  0.\n",
      "  1.  1.  1.  0.  1.  0.  0.  0.  0.  0.  0.  1.  0.  1.  1.  0.  0.  1.\n",
      "  1.  1.  1.  0.  0.  1.  0.  0.  0.  1.  0.  1.  1.  0.  0.  0.  1.  1.\n",
      "  0.  1.  1.  1.  1.  0.  1.  1.  0.  1.  0.  1.  0.  1.  1.  0.  1.  0.\n",
      "  1.  1.  1.  0.  0.  0.  0.  0.  1.  1.  0.  1.  0.  0.  1.  1.  1.  0.\n",
      "  1.  1.  1.  1.  1.  0.  1.  1.  0.  1.  1.  0.  1.  0.  1.  1.  0.  1.\n",
      "  0.  1.  0.  0.  1.  1.  1.  1.  1.  1.  1.  1.  1.  0.  1.  0.  1.  1.\n",
      "  0.  0.  0.  0.  0.  1.  1.  1.  1.  1.  1.  0.  1.  0.  0.  1.  1.  1.\n",
      "  1.  0.  0.  1.  0.  1.  1.  0.  0.  0.  1.  0.  0.  0.  1.  1.  1.  1.\n",
      "  1.  1.  1.  1.  1.  1.  0.  1.  1.  1.  0.  1.  0.  1.  0.  1.  1.  1.\n",
      "  1.  1.  1.  0.  1.  0.  0.  0.  1.  1.  0.  0.  1.  1.  0.  0.  1.  1.\n",
      "  1.  1.  0.  1.  1.  0.  1.  1.  0.  1.  0.  0.  0.  0.  1.  1.  1.  1.\n",
      "  1.  0.  0.  1.  1.  1.  1.  1.  0.  1.  1.  1.  1.  1.  0.  1.  0.  1.\n",
      "  1.  1.  1.  0.  1.  0.  0.  1.  0.  0.  1.  1.  0.  0.  1.  1.  0.  1.\n",
      "  1.  1.  1.  1.  0.  1.  0.  1.  1.  0.  0.  0.  0.  0.  1.  1.  1.  1.\n",
      "  0.  1.  0.  1.  0.  0.  1.  0.  1.  0.  0.  0.  0.  1.  0.  1.  0.  0.\n",
      "  1.  0.  1.  0.  0.  1.  0.  0.  0.  0.  1.  0.  1.  1.  0.  1.  0.  1.\n",
      "  0.  0.  0.  1.]\n",
      "prediction on D\n",
      "[1 0 0 0 0 1 1 1 0 1 1 1 1 1 1 0 0 0 1 1 0 1 1 0 1 1 0 1 0 0 1 0 0 0 0 0 1\n",
      " 0 0 1 1 1 0 0 0 0 0 0 1 1 1 1 0 0 0 1 1 1 1 0 1 0 1 0 1 0 0 1 1 0 0 1 1 1\n",
      " 0 0 1 0 0 1 0 1 0 0 1 0 0 0 1 0 1 1 0 0 1 0 1 1 1 0 1 0 0 0 1 0 1 0 1 1 1\n",
      " 0 1 0 0 0 0 0 0 1 0 1 1 0 0 1 1 1 1 0 0 1 0 0 0 1 0 1 1 0 0 0 1 1 0 1 1 1\n",
      " 1 0 1 1 0 1 0 1 0 1 1 0 1 0 1 1 1 0 0 0 0 0 1 1 0 1 0 0 1 1 1 0 1 1 1 1 1\n",
      " 0 1 1 0 1 1 0 1 0 1 1 0 1 0 1 0 0 1 1 1 1 1 1 1 1 1 0 1 0 1 1 0 0 0 0 0 1\n",
      " 1 1 1 1 1 0 1 0 0 1 1 1 1 0 0 1 0 1 1 0 0 0 1 0 0 0 1 1 1 1 1 1 1 1 1 1 0\n",
      " 1 1 1 0 1 0 1 0 1 1 1 1 1 1 0 1 0 0 0 1 1 0 0 1 1 0 0 1 1 1 1 0 1 1 0 1 1\n",
      " 0 1 0 0 0 0 1 1 1 1 1 0 0 1 1 1 1 1 0 1 1 1 1 1 0 1 0 1 1 1 1 0 1 0 0 1 0\n",
      " 0 1 1 0 0 1 1 0 1 1 1 1 1 0 1 0 1 1 0 0 0 0 0 1 1 1 1 0 1 0 1 0 0 1 0 1 0\n",
      " 0 0 0 1 0 1 0 0 1 0 1 0 0 1 0 0 0 0 1 0 1 1 0 1 0 1 0 0 0 1]\n"
     ]
    },
    {
     "name": "stderr",
     "output_type": "stream",
     "text": [
      "C:\\SciSoft\\WinPython-32bit-2.7.9.4\\python-2.7.9\\lib\\site-packages\\IPython\\kernel\\__main__.py:37: UserWarning: The parameter 'updates' of theano.function() expects an OrderedDict, got <type 'dict'>. Using a standard dictionary here results in non-deterministic behavior. You should use an OrderedDict if you are using Python 2.7 (theano.compat.python2x.OrderedDict for older python), or use a list of (shared, update) pairs. Do not just convert your dictionary to this type before the call as the conversion will still be non-deterministic.\n"
     ]
    }
   ],
   "source": [
    "import numpy\n",
    "import theano\n",
    "import theano.tensor as T\n",
    "rng = numpy.random\n",
    "\n",
    "N = 400\n",
    "feats = 784\n",
    "D = (rng.randn(N, feats).astype(theano.config.floatX),\n",
    "rng.randint(size=N,low=0, high=2).astype(theano.config.floatX))\n",
    "training_steps = 10000\n",
    "\n",
    "# Configuration\n",
    "theano.config.floatX = 'float32'\n",
    "\n",
    "# Declare Theano symbolic variables\n",
    "x = T.matrix(\"x\")\n",
    "y = T.vector(\"y\")\n",
    "w = theano.shared(rng.randn(feats).astype(theano.config.floatX), name=\"w\")\n",
    "b = theano.shared(numpy.asarray(0., dtype=theano.config.floatX), name=\"b\")\n",
    "x.tag.test_value = D[0]\n",
    "y.tag.test_value = D[1]\n",
    "#print \"Initial model:\"\n",
    "#print w.get_value(), b.get_value()\n",
    "\n",
    "# Construct Theano expression graph\n",
    "p_1 = 1 / (1 + T.exp(-T.dot(x, w)-b)) # Probability of having a one\n",
    "prediction = p_1 > 0.5 # The prediction that is done: 0 or 1\n",
    "xent = -y*T.log(p_1) - (1-y)*T.log(1-p_1) # Cross-entropy\n",
    "cost = T.cast(xent.mean(), 'float32') + 0.01*(w**2).sum() # The cost to optimize\n",
    "gw,gb = T.grad(cost, [w,b])\n",
    "\n",
    "# Compile expressions to functions\n",
    "train = theano.function(\n",
    "            inputs=[x,y],\n",
    "            outputs=[prediction, xent],\n",
    "            updates={w:w-0.01*gw, b:b-0.01*gb},\n",
    "            name = \"train\")\n",
    "predict = theano.function(inputs=[x], outputs=prediction,\n",
    "            name = \"predict\")\n",
    "\n",
    "if any([x.op.__class__.__name__ in ['Gemv', 'CGemv', 'Gemm', 'CGemm'] for x in\n",
    "        train.maker.fgraph.toposort()]):\n",
    "    print 'Used the cpu'\n",
    "elif any([x.op.__class__.__name__ in ['GpuGemm', 'GpuGemv'] for x in\n",
    "          train.maker.fgraph.toposort()]):\n",
    "    print 'Used the gpu'\n",
    "else:\n",
    "    print 'ERROR, not able to tell if theano used the cpu or the gpu'\n",
    "    print train.maker.fgraph.toposort()\n",
    "\n",
    "for i in range(training_steps):\n",
    "    pred, err = train(D[0], D[1])\n",
    "#print \"Final model:\"\n",
    "#print w.get_value(), b.get_value()\n",
    "\n",
    "print \"target values for D\"\n",
    "print D[1]\n",
    "\n",
    "print \"prediction on D\"\n",
    "print predict(D[0])"
   ]
  }
 ],
 "metadata": {
  "kernelspec": {
   "display_name": "Python 2",
   "language": "python",
   "name": "python2"
  },
  "language_info": {
   "codemirror_mode": {
    "name": "ipython",
    "version": 2
   },
   "file_extension": ".py",
   "mimetype": "text/x-python",
   "name": "python",
   "nbconvert_exporter": "python",
   "pygments_lexer": "ipython2",
   "version": "2.7.9"
  }
 },
 "nbformat": 4,
 "nbformat_minor": 0
}
