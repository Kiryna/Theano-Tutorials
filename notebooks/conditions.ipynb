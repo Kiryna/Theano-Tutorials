{
 "cells": [
  {
   "cell_type": "code",
   "execution_count": 2,
   "metadata": {
    "collapsed": false
   },
   "outputs": [
    {
     "name": "stdout",
     "output_type": "stream",
     "text": [
      "time spent 0.230085 sec\n",
      "time spent 0.117701 sec\n"
     ]
    }
   ],
   "source": [
    "from theano import tensor as T\n",
    "from theano.ifelse import ifelse\n",
    "import theano, time, numpy\n",
    "\n",
    "a, b = T.scalars('a', 'b')\n",
    "x, y = T.matrices('x', 'y')\n",
    "\n",
    "# \n",
    "z_switch = T.switch(T.lt(a, b), T.mean(x), T.mean(y))\n",
    "z_lazy = ifelse(T.lt(a, b), T.mean(x), T.mean(y))\n",
    "\n",
    "f_switch = theano.function([a, b, x, y], z_switch, mode = theano.Mode(linker='vm'))\n",
    "f_lazy = theano.function([a, b, x, y], z_lazy, mode = theano.Mode(linker='vm'))\n",
    "\n",
    "val1 = 0\n",
    "val2 = 1\n",
    "\n",
    "big_mat1 = numpy.ones((10000, 1000))\n",
    "big_mat2 = numpy.ones((10000, 1000))\n",
    "\n",
    "n_times = 10\n",
    "\n",
    "tic = time.clock()\n",
    "for i in range(n_times):\n",
    "    f_switch(val1, val2, big_mat1, big_mat2)\n",
    "print 'time spent %f sec' % (time.clock() - tic)\n",
    "\n",
    "tic = time.clock()\n",
    "for i in range(n_times):\n",
    "    f_lazy(val1, val2, big_mat1, big_mat2)\n",
    "print 'time spent %f sec' % (time.clock() - tic)"
   ]
  }
 ],
 "metadata": {
  "kernelspec": {
   "display_name": "Python 2",
   "language": "python",
   "name": "python2"
  },
  "language_info": {
   "codemirror_mode": {
    "name": "ipython",
    "version": 2
   },
   "file_extension": ".py",
   "mimetype": "text/x-python",
   "name": "python",
   "nbconvert_exporter": "python",
   "pygments_lexer": "ipython2",
   "version": "2.7.9"
  }
 },
 "nbformat": 4,
 "nbformat_minor": 0
}
