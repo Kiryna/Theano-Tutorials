{
 "cells": [
  {
   "cell_type": "code",
   "execution_count": 5,
   "metadata": {
    "collapsed": false
   },
   "outputs": [
    {
     "data": {
      "text/plain": [
       "array([ 70.])"
      ]
     },
     "execution_count": 5,
     "metadata": {},
     "output_type": "execute_result"
    }
   ],
   "source": [
    "import theano.tensor as T\n",
    "from theano import function\n",
    "\n",
    "x = T.vector('x')\n",
    "f = function([x], x * 10, mode = 'DebugMode')\n",
    "\n",
    "f([5])\n",
    "f([0])\n",
    "f([7])\n"
   ]
  },
  {
   "cell_type": "code",
   "execution_count": 18,
   "metadata": {
    "collapsed": false
   },
   "outputs": [
    {
     "name": "stdout",
     "output_type": "stream",
     "text": [
      "[array(18.0)]\n"
     ]
    }
   ],
   "source": [
    "import theano\n",
    "from theano import ProfileMode\n",
    "profmode = ProfileMode(optimizer='fast_run', linker=theano.gof.OpWiseCLinker())\n",
    "input1 = T.scalar()\n",
    "input2 = T.scalar()\n",
    "y = input1 ** 2 + input2 ** 2\n",
    "output1 = T.grad(y, input1) + T.grad(y, input2)\n",
    "foo = function([input1, input2], [output1], profile=True)\n",
    "print foo(5, 4)"
   ]
  },
  {
   "cell_type": "code",
   "execution_count": null,
   "metadata": {
    "collapsed": true
   },
   "outputs": [],
   "source": []
  }
 ],
 "metadata": {
  "kernelspec": {
   "display_name": "Python 2",
   "language": "python",
   "name": "python2"
  },
  "language_info": {
   "codemirror_mode": {
    "name": "ipython",
    "version": 2
   },
   "file_extension": ".py",
   "mimetype": "text/x-python",
   "name": "python",
   "nbconvert_exporter": "python",
   "pygments_lexer": "ipython2",
   "version": "2.7.9"
  }
 },
 "nbformat": 4,
 "nbformat_minor": 0
}
