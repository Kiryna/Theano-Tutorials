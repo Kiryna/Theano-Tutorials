{
 "cells": [
  {
   "cell_type": "code",
   "execution_count": 1,
   "metadata": {
    "collapsed": false
   },
   "outputs": [
    {
     "name": "stdout",
     "output_type": "stream",
     "text": [
      "aaaa\n",
      "bbbb\n",
      "a1   b1\n",
      "a2   b2\n",
      "a3   b3\n"
     ]
    }
   ],
   "source": [
    "import cPickle\n",
    "\n",
    "# The Basics of Pickling\n",
    "\n",
    "class MyClass(object): \n",
    "    def __init__(self, a, b):\n",
    "        self.a = a\n",
    "        self.b = b\n",
    "        self.a_file = 'afile.save'\n",
    "        f = file(self.a_file, 'wb')        \n",
    "        cPickle.dump(self, f, protocol=cPickle.HIGHEST_PROTOCOL)\n",
    "        f.close()\n",
    "\n",
    "f = file('obj.save', 'wb')\n",
    "my_obj = MyClass('aaaa', 'bbbb')\n",
    "cPickle.dump(my_obj, f, protocol=cPickle.HIGHEST_PROTOCOL)\n",
    "f.close()\n",
    "\n",
    "f = file('obj.save', 'rb')\n",
    "loaded_obj = cPickle.load(f)\n",
    "print loaded_obj.a\n",
    "print loaded_obj.b\n",
    "f.close()\n",
    "\n",
    "f = file('obj.save', 'wb')\n",
    "obj1 = MyClass('a1', 'b1')\n",
    "obj2 = MyClass('a2', 'b2')\n",
    "obj3 = MyClass('a3', 'b3')\n",
    "for obj in [obj1, obj2, obj3]:\n",
    "    cPickle.dump(obj, f, protocol=cPickle.HIGHEST_PROTOCOL)\n",
    "f.close()\n",
    "\n",
    "f = file('obj.save', 'rb')\n",
    "loaded_objects = []\n",
    "for i in range(3):\n",
    "    loaded_objects.append(cPickle.load(f))\n",
    "print loaded_objects[0].a, \" \", loaded_objects[0].b\n",
    "print loaded_objects[1].a, \" \", loaded_objects[1].b\n",
    "print loaded_objects[2].a, \" \", loaded_objects[2].b\n",
    "f.close()\n"
   ]
  },
  {
   "cell_type": "code",
   "execution_count": 2,
   "metadata": {
    "collapsed": false
   },
   "outputs": [
    {
     "name": "stdout",
     "output_type": "stream",
     "text": [
      "{'a': 'aaaa', 'a_file': 'afile.save', 'b': 'bbbb'}\n",
      "{'a': 'a3', 'a_file': 'afile.save', 'b': 'bbbb'}\n",
      "{'a_file': 'afile.save', 'b': 'bbbb'}\n"
     ]
    }
   ],
   "source": [
    "# Short-Term Serialization\n",
    "\n",
    "def __getstate__(self):\n",
    "    state = dict(self.__dict__)\n",
    "    del state['a']\n",
    "    return state\n",
    "\n",
    "def __setstate__(self, d):\n",
    "    self.__dict__.update(d)\n",
    "    self.a = cPickle.load(file(self.a_file, 'rb')).a\n",
    "    \n",
    "print my_obj.__dict__\n",
    "__setstate__(my_obj, {'a': 'aa'})\n",
    "print my_obj.__dict__\n",
    "print __getstate__(my_obj)"
   ]
  },
  {
   "cell_type": "code",
   "execution_count": 5,
   "metadata": {
    "collapsed": false
   },
   "outputs": [
    {
     "name": "stdout",
     "output_type": "stream",
     "text": [
      "['foo', 'foo_2', 'array_0', 'pkl']\n",
      "0\n",
      "2\n"
     ]
    }
   ],
   "source": [
    "# Robust Serialization\n",
    "import theano\n",
    "import numpy\n",
    "from theano.misc.pkl_utils import dump\n",
    "from theano.misc.pkl_utils import load\n",
    "\n",
    "foo_1 = theano.shared(0, name='foo')\n",
    "foo_2 = theano.shared(1, name='foo')\n",
    "\n",
    "dump((foo_1, foo_2, numpy.array(2)), 'model.npz')\n",
    "\n",
    "model =  numpy.load('model.npz')\n",
    "print model.keys()\n",
    "print model['foo']\n",
    "\n",
    "foo_1, foo_2, array = load('model.npz')    \n",
    "print array"
   ]
  },
  {
   "cell_type": "code",
   "execution_count": 7,
   "metadata": {
    "collapsed": false
   },
   "outputs": [
    {
     "name": "stdout",
     "output_type": "stream",
     "text": [
      "a3   bbbb\n",
      "weight   bias\n",
      "('weight', 'bias')\n"
     ]
    }
   ],
   "source": [
    "# Long-Term Serialization\n",
    "\n",
    "def __getstate_l__(self):\n",
    "    return (self.a, self.b)\n",
    "\n",
    "def __setstate_l__(self, state):\n",
    "    weight, bias = state\n",
    "    self.a = weight\n",
    "    self.b = bias\n",
    "    \n",
    "print my_obj.a, ' ', my_obj.b\n",
    "__setstate_l__(my_obj, ('weight', 'bias'))\n",
    "print my_obj.a, ' ', my_obj.b\n",
    "print __getstate_l__(my_obj)"
   ]
  }
 ],
 "metadata": {
  "kernelspec": {
   "display_name": "Python 2",
   "language": "python",
   "name": "python2"
  },
  "language_info": {
   "codemirror_mode": {
    "name": "ipython",
    "version": 2
   },
   "file_extension": ".py",
   "mimetype": "text/x-python",
   "name": "python",
   "nbconvert_exporter": "python",
   "pygments_lexer": "ipython2",
   "version": "2.7.9"
  }
 },
 "nbformat": 4,
 "nbformat_minor": 0
}
