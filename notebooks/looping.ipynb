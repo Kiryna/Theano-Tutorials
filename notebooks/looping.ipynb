{
 "cells": [
  {
   "cell_type": "code",
   "execution_count": 10,
   "metadata": {
    "collapsed": false,
    "slideshow": {
     "slide_type": "-"
    }
   },
   "outputs": [
    {
     "name": "stdout",
     "output_type": "stream",
     "text": [
      "[[ 0.96402758  0.99505475]\n",
      " [ 0.96402758  0.99505475]]\n",
      "[[ 0.96402758  0.99505475]\n",
      " [ 0.96402758  0.99505475]]\n"
     ]
    }
   ],
   "source": [
    "# Computing tanh(x(t).dot(W) + b) elementwise\n",
    "\n",
    "import theano\n",
    "import theano.tensor as T\n",
    "import numpy as np\n",
    "\n",
    "X = T.matrix('X')\n",
    "W = T.matrix('W')\n",
    "b_sym = T.vector('b_sym')\n",
    "\n",
    "results, updates = theano.scan(lambda v: T.tanh(T.dot(v, W) + b_sym), sequences=X)\n",
    "compute_elementwise = theano.function(inputs=[X, W, b_sym], outputs=[results])\n",
    "\n",
    "x = np.eye(2, dtype=theano.config.floatX)\n",
    "w = np.ones((2, 2), dtype=theano.config.floatX)\n",
    "b = np.ones((2), dtype=theano.config.floatX)\n",
    "b[1] = 2\n",
    "\n",
    "print compute_elementwise(x, w, b)[0]\n",
    "print np.tanh(x.dot(w) + b)"
   ]
  },
  {
   "cell_type": "code",
   "execution_count": 43,
   "metadata": {
    "collapsed": false
   },
   "outputs": [
    {
     "name": "stdout",
     "output_type": "stream",
     "text": [
      "[[-0.99505475 -0.99505475]\n",
      " [ 0.96471973  0.96471973]\n",
      " [ 0.99998585  0.99998585]\n",
      " [ 0.99998771  0.99998771]\n",
      " [-0.96402932 -0.96402932]]\n",
      "\n",
      "[[-0.99505475 -0.99505475]\n",
      " [ 0.96471973  0.96471973]\n",
      " [ 0.99998585  0.99998585]\n",
      " [ 0.99998771  0.99998771]\n",
      " [-0.96402932 -0.96402932]]\n"
     ]
    }
   ],
   "source": [
    "# Computing the sequence x(t) = tanh(x(t - 1).dot(W) + y(t).dot(U) + p(T - t).dot(V))\n",
    "\n",
    "X = T.vector('X')\n",
    "W = T.matrix('W')\n",
    "b_sym = T.vector('b_sym')\n",
    "\n",
    "U = T.matrix('U')\n",
    "Y = T.matrix('Y')\n",
    "V = T.matrix('V')\n",
    "P = T.matrix('P')\n",
    "\n",
    "results, updates = theano.scan(lambda y, p, x_r: T.tanh(T.dot(x_r, W) + T.dot(y, U) + T.dot(p, V)),\n",
    "                              sequences=[Y, P[::-1]], outputs_info=X)\n",
    "compute_seq = theano.function(inputs=[X, W, Y, U, P, V], outputs=results)\n",
    "\n",
    "x = np.zeros((2), dtype=theano.config.floatX)\n",
    "x[1] = 1\n",
    "\n",
    "w = np.ones((2, 2), dtype=theano.config.floatX)\n",
    "y = np.ones((5, 2), dtype=theano.config.floatX)\n",
    "y[0, :] = -3\n",
    "u = np.ones((2, 2), dtype=theano.config.floatX)\n",
    "p = np.ones((5, 2), dtype=theano.config.floatX)\n",
    "p[0, :] = -3\n",
    "v = np.ones((2, 2), dtype=theano.config.floatX)\n",
    "\n",
    "print compute_seq(x, w, y, u, p, v)\n",
    "\n",
    "x_res = np.zeros((5, 2), dtype=theano.config.floatX)\n",
    "x_res[0] = np.tanh(x.dot(w) + y[0].dot(u) + p[4].dot(v))\n",
    "print \n",
    "for i in range(1, 5):\n",
    "    x_res[i] = np.tanh(x_res[i-1].dot(w) + y[i].dot(u) + p[4-i].dot(v))       \n",
    "print x_res"
   ]
  },
  {
   "cell_type": "code",
   "execution_count": 51,
   "metadata": {
    "collapsed": false
   },
   "outputs": [
    {
     "name": "stdout",
     "output_type": "stream",
     "text": [
      "[ 1.  2.  3.  4.  5.  0.]\n",
      "[ 1.  2.  3.  4.  5.  0.]\n"
     ]
    }
   ],
   "source": [
    "X = T.matrix('X')\n",
    "results, updates = theano.scan(lambda x_i: T.sqrt((x_i**2).sum()), sequences=X)\n",
    "norm_func = theano.function([X], results)\n",
    "\n",
    "x = np.diag(np.arange(1, 6, dtype = theano.config.floatX), 1)\n",
    "print norm_func(x)\n",
    "\n",
    "print np.sqrt((x**2).sum(1))"
   ]
  },
  {
   "cell_type": "code",
   "execution_count": 63,
   "metadata": {
    "collapsed": false
   },
   "outputs": [
    {
     "name": "stdout",
     "output_type": "stream",
     "text": [
      "[[ 0.  1.  0.  0.  0.  0.]\n",
      " [ 0.  0.  2.  0.  0.  0.]\n",
      " [ 0.  0.  0.  3.  0.  0.]\n",
      " [ 0.  0.  0.  0.  4.  0.]\n",
      " [ 0.  0.  0.  0.  0.  5.]\n",
      " [ 0.  0.  0.  0.  0.  0.]]\n",
      "[ 0.  1.  2.  3.  4.  5.]\n",
      "[[ 0.  0.  0.]\n",
      " [ 1.  1.  1.]\n",
      " [ 2.  2.  2.]\n",
      " [ 3.  3.  3.]\n",
      " [ 4.  4.  4.]\n",
      " [ 5.  5.  5.]]\n",
      "[[ 0.  1.  2.  3.  4.  5.]\n",
      " [ 0.  1.  2.  3.  4.  5.]\n",
      " [ 0.  1.  2.  3.  4.  5.]]\n",
      "[ 0.  1.  2.  3.  4.  5.]\n"
     ]
    }
   ],
   "source": [
    "X = T.matrix('X')\n",
    "results, updates = theano.scan(lambda x_i: T.sqrt((x_i**2).sum()), sequences=X.T)\n",
    "norm_func = theano.function([X], results)\n",
    "\n",
    "x_t_func = theano.function([X], X.T)\n",
    "\n",
    "x = np.diag(np.arange(1, 6, dtype = theano.config.floatX), 1)\n",
    "\n",
    "print x\n",
    "\n",
    "res = norm_func(x)\n",
    "print res\n",
    "tr = x_t_func([res, res, res])\n",
    "print tr\n",
    "print x_t_func(tr)\n",
    "print np.sqrt((x**2).sum(0))"
   ]
  }
 ],
 "metadata": {
  "kernelspec": {
   "display_name": "Python 2",
   "language": "python",
   "name": "python2"
  },
  "language_info": {
   "codemirror_mode": {
    "name": "ipython",
    "version": 2
   },
   "file_extension": ".py",
   "mimetype": "text/x-python",
   "name": "python",
   "nbconvert_exporter": "python",
   "pygments_lexer": "ipython2",
   "version": "2.7.9"
  }
 },
 "nbformat": 4,
 "nbformat_minor": 0
}
